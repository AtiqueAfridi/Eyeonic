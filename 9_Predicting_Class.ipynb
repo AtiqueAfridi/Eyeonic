{
 "cells": [
  {
   "cell_type": "markdown",
   "id": "c000f0d7",
   "metadata": {},
   "source": [
    "# Output"
   ]
  },
  {
   "cell_type": "code",
   "execution_count": 2,
   "id": "a899f4c8",
   "metadata": {},
   "outputs": [],
   "source": [
    "# Load your trained model weights\n",
    "model_path = r\"C:\\Users\\mussa\\Desktop\\fyp-1\\preprocessing mussa\\InceptionResNetV2_basic_outputs\\InceptionResNetV2_basic_outputs\\ae7ef1cbbf904edb9475c2d6efafb7e3\\model_weights.h5\"\n",
    "model = tf.keras.models.load_model(model_path)"
   ]
  },
  {
   "cell_type": "code",
   "execution_count": 25,
   "id": "b292f1c4",
   "metadata": {},
   "outputs": [
    {
     "name": "stdout",
     "output_type": "stream",
     "text": [
      "1/1 [==============================] - 0s 215ms/step\n",
      "Predicted Class: Normal\n"
     ]
    }
   ],
   "source": [
    "import cv2\n",
    "import numpy as np\n",
    "import tensorflow as tf\n",
    "\n",
    "# Function to load and preprocess an image \n",
    "def load_and_preprocess_image(image_path, target_size=(224, 224)):\n",
    "  img = cv2.imread(image_path)  # Read the image using OpenCV\n",
    "  if img is None:\n",
    "      raise ValueError(f\"Error reading image: {image_path}\")  # Handle missing image\n",
    "\n",
    "  # Assuming your model expects RGB format \n",
    "  img = cv2.cvtColor(img, cv2.COLOR_BGR2RGB)\n",
    "\n",
    "  # Resize the image \n",
    "  img = cv2.resize(img, target_size)\n",
    "  img = np.expand_dims(img, axis=0)\n",
    "\n",
    "  return img\n",
    "\n",
    "\n",
    "# Get class names \n",
    "class_names = ['Normal', 'Diabetes', 'Glaucoma', 'Cataract', 'AMD', 'Hypertension', 'Myopia', 'Others']\n",
    "\n",
    "# Specify the path to your input image\n",
    "image_path = r\"C:\\Users\\mussa\\Desktop\\fyp-1\\preprocessing mussa\\Sample_images\\937_left.jpg\"\n",
    "\n",
    "# Load and preprocess the image (use the function if needed)\n",
    "preprocessed_image = load_and_preprocess_image(image_path)\n",
    "\n",
    "# Make prediction (use preprocessed_image if you uncomment the function)\n",
    "prediction = model.predict(preprocessed_image)  # Assuming your model can handle image paths directly\n",
    "predicted_class = np.argmax(prediction[0])  # Get the index of the predicted class\n",
    "\n",
    "# Display the predicted class\n",
    "print(\"Predicted Class:\", class_names[predicted_class])\n",
    "\n",
    "# Optionally, visualize the image with the predicted class label (requires OpenCV)\n",
    "img = cv2.imread(image_path)\n",
    "if img is not None:  # Check if image was read successfully\n",
    "  cv2.putText(img, class_names[predicted_class], (10, 30), cv2.FONT_HERSHEY_SIMPLEX, 1, (0, 0, 255), 2)\n",
    "  cv2.imshow(\"Predicted Image\", img)\n",
    "  cv2.waitKey(0)  # Wait for a key press to close the window\n",
    "  cv2.destroyAllWindows()\n",
    "else: \n",
    "  print(f\"Error: Could not read image {image_path}\")\n",
    "\n"
   ]
  },
  {
   "cell_type": "code",
   "execution_count": null,
   "id": "942b9c77",
   "metadata": {},
   "outputs": [],
   "source": []
  },
  {
   "cell_type": "code",
   "execution_count": null,
   "id": "5055277c",
   "metadata": {},
   "outputs": [],
   "source": []
  },
  {
   "cell_type": "code",
   "execution_count": null,
   "id": "8afa14ea",
   "metadata": {},
   "outputs": [],
   "source": []
  },
  {
   "cell_type": "code",
   "execution_count": null,
   "id": "fb6b803d",
   "metadata": {},
   "outputs": [],
   "source": []
  }
 ],
 "metadata": {
  "kernelspec": {
   "display_name": "Python 3 (ipykernel)",
   "language": "python",
   "name": "python3"
  },
  "language_info": {
   "codemirror_mode": {
    "name": "ipython",
    "version": 3
   },
   "file_extension": ".py",
   "mimetype": "text/x-python",
   "name": "python",
   "nbconvert_exporter": "python",
   "pygments_lexer": "ipython3",
   "version": "3.11.5"
  }
 },
 "nbformat": 4,
 "nbformat_minor": 5
}
